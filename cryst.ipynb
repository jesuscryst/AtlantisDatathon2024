{
 "cells": [
  {
   "cell_type": "code",
   "execution_count": null,
   "metadata": {},
   "outputs": [],
   "source": [
    "import pandas as pd\n",
    "import matplotlib.pyplot as plt\n",
    "import numpy as np\n",
    "\n",
    "\n",
    "heart_attack_pred = pd.read_csv(\"heart_attack_prediction_dataset.csv\").drop(columns=[\"Patient ID\", \"Country\", \"Continent\", \"Hemisphere\"])\n",
    "heart_attack_pred.columns = map(str.lower, heart_attack_pred)\n",
    "\n",
    "heart_attack_pred['bmi'] = round(heart_attack_pred['bmi'])\n",
    "\n",
    "heart_attack_pred.columns\n",
    "\n"
   ]
  }
 ],
 "metadata": {
  "language_info": {
   "name": "python"
  }
 },
 "nbformat": 4,
 "nbformat_minor": 2
}
