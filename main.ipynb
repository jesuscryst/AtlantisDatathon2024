{
 "cells": [
  {
   "cell_type": "code",
   "execution_count": 3,
   "metadata": {},
   "outputs": [],
   "source": [
    "import pandas as pd\n"
   ]
  },
  {
   "cell_type": "code",
   "execution_count": 4,
   "metadata": {},
   "outputs": [],
   "source": [
    "heart_attack = pd.read_csv(\"heart_attack_dataset.csv\")\n",
    "heart_attack.drop(columns=[\"Troponin\", \"CK-MB\"])\n",
    "\n",
    "heart_attack_pred = pd.read_csv(\"heart_attack_prediction_dataset.csv\")\n",
    "heart_attack_pred.drop(columns=[\"Patient ID\", \"Country\", \"Continent\", \"Hemisphere\"])\n",
    "\n",
    "medical_insurance = pd.read_csv(\"medical_insurance.csv\")\n",
    "medical_insurance.rename(columns={'age': 'Age'}, inplace = True)\n",
    "\n",
    "df = heart_attack.merge(heart_attack_pred, on=\"Age\").merge(medical_insurance, on=\"Age\")"
   ]
  }
 ],
 "metadata": {
  "kernelspec": {
   "display_name": "Python 3",
   "language": "python",
   "name": "python3"
  },
  "language_info": {
   "codemirror_mode": {
    "name": "ipython",
    "version": 3
   },
   "file_extension": ".py",
   "mimetype": "text/x-python",
   "name": "python",
   "nbconvert_exporter": "python",
   "pygments_lexer": "ipython3",
   "version": "3.10.2"
  },
  "vscode": {
   "interpreter": {
    "hash": "aee8b7b246df8f9039afb4144a1f6fd8d2ca17a180786b69acc140d282b71a49"
   }
  }
 },
 "nbformat": 4,
 "nbformat_minor": 2
}
