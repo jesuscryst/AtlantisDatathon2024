{
 "cells": [
  {
   "cell_type": "markdown",
   "metadata": {},
   "source": [
    "Convert .tsv file to .csv file"
   ]
  },
  {
   "cell_type": "code",
   "execution_count": 1,
   "metadata": {},
   "outputs": [],
   "source": [
    "import csv\n",
    "\n",
    "filenames = [\"contacts\", \"searches\"]\n",
    "\n",
    "for file in filenames:\n",
    "    input_file = f\"{file}.tsv\"\n",
    "    output_file = f\"{file}.csv\"\n",
    "\n",
    "    with open(input_file, 'r') as tsv_file, open(output_file, 'w') as csv_file:\n",
    "        csv_writer = csv.writer(csv_file)\n",
    "        for line in tsv_file:\n",
    "            fields = line.strip().split('\\t')\n",
    "            csv_writer.writerow(fields)"
   ]
  }
 ],
 "metadata": {
  "kernelspec": {
   "display_name": "Python 3",
   "language": "python",
   "name": "python3"
  },
  "language_info": {
   "codemirror_mode": {
    "name": "ipython",
    "version": 3
   },
   "file_extension": ".py",
   "mimetype": "text/x-python",
   "name": "python",
   "nbconvert_exporter": "python",
   "pygments_lexer": "ipython3",
   "version": "3.11.9"
  }
 },
 "nbformat": 4,
 "nbformat_minor": 2
}
